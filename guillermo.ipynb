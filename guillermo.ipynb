{
 "cells": [
  {
   "cell_type": "markdown",
   "metadata": {},
   "source": [
    "# This is the start of the complete unsupervised notebook with PID"
   ]
  },
  {
   "cell_type": "code",
   "execution_count": 6,
   "metadata": {},
   "outputs": [
    {
     "name": "stderr",
     "output_type": "stream",
     "text": [
      "2024-11-08 12:58:01.567 | INFO     | colorblind_pdf.colorblind_pdf:main:177 - Starting processing for gammaPbW.pdf with deficiencies ('all',)\n",
      "2024-11-08 12:58:01.567 | INFO     | colorblind_pdf.colorblind_pdf:main:202 - Processing for deficiency: deuteranopia\n",
      "2024-11-08 12:58:01.897 | INFO     | colorblind_pdf.colorblind_pdf:main:218 - Saved processed file: gammaPbW_deuteranopia.pdf\n",
      "2024-11-08 12:58:01.897 | INFO     | colorblind_pdf.colorblind_pdf:main:202 - Processing for deficiency: tritanopia\n",
      "2024-11-08 12:58:02.175 | INFO     | colorblind_pdf.colorblind_pdf:main:218 - Saved processed file: gammaPbW_tritanopia.pdf\n",
      "2024-11-08 12:58:02.175 | INFO     | colorblind_pdf.colorblind_pdf:main:202 - Processing for deficiency: protanopia\n",
      "2024-11-08 12:58:02.443 | INFO     | colorblind_pdf.colorblind_pdf:main:218 - Saved processed file: gammaPbW_protanopia.pdf\n",
      "2024-11-08 12:58:02.540 | INFO     | colorblind_pdf.colorblind_pdf:scale_and_merge_pdfs:75 - Merged PDF saved as gammaPbW_merged_cvd.pdf\n",
      "2024-11-08 12:58:02.542 | INFO     | colorblind_pdf.colorblind_pdf:main:225 - Processing complete\n"
     ]
    }
   ],
   "source": [
    "import subprocess\n",
    "\n",
    "def simulate_color_vision_deficiency(pdf_path):\n",
    "    output_files = []\n",
    "        \n",
    "    command = [\"colorblind_pdf\", pdf_path]\n",
    "    output_files = subprocess.run(command)\n",
    "\n",
    "    return output_files\n",
    "\n",
    "# Define path for your PDF\n",
    "pdf_path = \"gammaPbW.pdf\"\n",
    "\n",
    "# Run the function\n",
    "output_files = simulate_color_vision_deficiency(pdf_path)\n",
    "# print(\"Generated files:\", output_files)\n"
   ]
  }
 ],
 "metadata": {
  "kernelspec": {
   "display_name": "venv-HIVE",
   "language": "python",
   "name": "venv-hive"
  },
  "language_info": {
   "codemirror_mode": {
    "name": "ipython",
    "version": 3
   },
   "file_extension": ".py",
   "mimetype": "text/x-python",
   "name": "python",
   "nbconvert_exporter": "python",
   "pygments_lexer": "ipython3",
   "version": "3.12.6"
  }
 },
 "nbformat": 4,
 "nbformat_minor": 4
}
